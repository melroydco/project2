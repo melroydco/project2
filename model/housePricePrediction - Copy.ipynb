{
 "cells": [
  {
   "cell_type": "code",
   "execution_count": 152,
   "id": "88046e48-2482-4677-8e06-d07e9be286f0",
   "metadata": {},
   "outputs": [],
   "source": [
    "import numpy as np\n",
    "import pandas as pd\n"
   ]
  },
  {
   "cell_type": "code",
   "execution_count": 153,
   "id": "c9c37ea0-1ad4-4bff-b59b-e7958f8a2002",
   "metadata": {},
   "outputs": [],
   "source": [
    "df = pd.read_csv('../hpc.csv')"
   ]
  },
  {
   "cell_type": "code",
   "execution_count": 154,
   "id": "115d7d63-621a-4d81-a23e-8a926f5e3a0f",
   "metadata": {},
   "outputs": [
    {
     "name": "stdout",
     "output_type": "stream",
     "text": [
      "<class 'pandas.core.frame.DataFrame'>\n",
      "RangeIndex: 14620 entries, 0 to 14619\n",
      "Data columns (total 23 columns):\n",
      " #   Column                                 Non-Null Count  Dtype  \n",
      "---  ------                                 --------------  -----  \n",
      " 0   id                                     14620 non-null  int64  \n",
      " 1   Date                                   14620 non-null  int64  \n",
      " 2   number of bedrooms                     14620 non-null  int64  \n",
      " 3   number of bathrooms                    14620 non-null  float64\n",
      " 4   living area                            14620 non-null  int64  \n",
      " 5   lot area                               14620 non-null  int64  \n",
      " 6   number of floors                       14620 non-null  float64\n",
      " 7   waterfront present                     14620 non-null  int64  \n",
      " 8   number of views                        14620 non-null  int64  \n",
      " 9   condition of the house                 14620 non-null  int64  \n",
      " 10  grade of the house                     14620 non-null  int64  \n",
      " 11  Area of the house(excluding basement)  14620 non-null  int64  \n",
      " 12  Area of the basement                   14620 non-null  int64  \n",
      " 13  Built Year                             14620 non-null  int64  \n",
      " 14  Renovation Year                        14620 non-null  int64  \n",
      " 15  Postal Code                            14620 non-null  int64  \n",
      " 16  Lattitude                              14620 non-null  float64\n",
      " 17  Longitude                              14620 non-null  float64\n",
      " 18  living_area_renov                      14620 non-null  int64  \n",
      " 19  lot_area_renov                         14620 non-null  int64  \n",
      " 20  Number of schools nearby               14620 non-null  int64  \n",
      " 21  Distance from the airport              14620 non-null  int64  \n",
      " 22  Price                                  14620 non-null  int64  \n",
      "dtypes: float64(4), int64(19)\n",
      "memory usage: 2.6 MB\n"
     ]
    }
   ],
   "source": [
    "df.info()"
   ]
  },
  {
   "cell_type": "code",
   "execution_count": 155,
   "id": "8e7d300a-83db-4f17-b9e7-7733384e06c9",
   "metadata": {},
   "outputs": [
    {
     "data": {
      "text/html": [
       "<div>\n",
       "<style scoped>\n",
       "    .dataframe tbody tr th:only-of-type {\n",
       "        vertical-align: middle;\n",
       "    }\n",
       "\n",
       "    .dataframe tbody tr th {\n",
       "        vertical-align: top;\n",
       "    }\n",
       "\n",
       "    .dataframe thead th {\n",
       "        text-align: right;\n",
       "    }\n",
       "</style>\n",
       "<table border=\"1\" class=\"dataframe\">\n",
       "  <thead>\n",
       "    <tr style=\"text-align: right;\">\n",
       "      <th></th>\n",
       "      <th>id</th>\n",
       "      <th>Date</th>\n",
       "      <th>number of bedrooms</th>\n",
       "      <th>number of bathrooms</th>\n",
       "      <th>living area</th>\n",
       "      <th>lot area</th>\n",
       "      <th>number of floors</th>\n",
       "      <th>waterfront present</th>\n",
       "      <th>number of views</th>\n",
       "      <th>condition of the house</th>\n",
       "      <th>...</th>\n",
       "      <th>Built Year</th>\n",
       "      <th>Renovation Year</th>\n",
       "      <th>Postal Code</th>\n",
       "      <th>Lattitude</th>\n",
       "      <th>Longitude</th>\n",
       "      <th>living_area_renov</th>\n",
       "      <th>lot_area_renov</th>\n",
       "      <th>Number of schools nearby</th>\n",
       "      <th>Distance from the airport</th>\n",
       "      <th>Price</th>\n",
       "    </tr>\n",
       "  </thead>\n",
       "  <tbody>\n",
       "    <tr>\n",
       "      <th>0</th>\n",
       "      <td>6762810145</td>\n",
       "      <td>42491</td>\n",
       "      <td>5</td>\n",
       "      <td>2.50</td>\n",
       "      <td>3650</td>\n",
       "      <td>9050</td>\n",
       "      <td>2.0</td>\n",
       "      <td>0</td>\n",
       "      <td>4</td>\n",
       "      <td>5</td>\n",
       "      <td>...</td>\n",
       "      <td>1921</td>\n",
       "      <td>0</td>\n",
       "      <td>122003</td>\n",
       "      <td>52.8645</td>\n",
       "      <td>-114.557</td>\n",
       "      <td>2880</td>\n",
       "      <td>5400</td>\n",
       "      <td>2</td>\n",
       "      <td>58</td>\n",
       "      <td>2380000</td>\n",
       "    </tr>\n",
       "    <tr>\n",
       "      <th>1</th>\n",
       "      <td>6762810635</td>\n",
       "      <td>42491</td>\n",
       "      <td>4</td>\n",
       "      <td>2.50</td>\n",
       "      <td>2920</td>\n",
       "      <td>4000</td>\n",
       "      <td>1.5</td>\n",
       "      <td>0</td>\n",
       "      <td>0</td>\n",
       "      <td>5</td>\n",
       "      <td>...</td>\n",
       "      <td>1909</td>\n",
       "      <td>0</td>\n",
       "      <td>122004</td>\n",
       "      <td>52.8878</td>\n",
       "      <td>-114.470</td>\n",
       "      <td>2470</td>\n",
       "      <td>4000</td>\n",
       "      <td>2</td>\n",
       "      <td>51</td>\n",
       "      <td>1400000</td>\n",
       "    </tr>\n",
       "    <tr>\n",
       "      <th>2</th>\n",
       "      <td>6762810998</td>\n",
       "      <td>42491</td>\n",
       "      <td>5</td>\n",
       "      <td>2.75</td>\n",
       "      <td>2910</td>\n",
       "      <td>9480</td>\n",
       "      <td>1.5</td>\n",
       "      <td>0</td>\n",
       "      <td>0</td>\n",
       "      <td>3</td>\n",
       "      <td>...</td>\n",
       "      <td>1939</td>\n",
       "      <td>0</td>\n",
       "      <td>122004</td>\n",
       "      <td>52.8852</td>\n",
       "      <td>-114.468</td>\n",
       "      <td>2940</td>\n",
       "      <td>6600</td>\n",
       "      <td>1</td>\n",
       "      <td>53</td>\n",
       "      <td>1200000</td>\n",
       "    </tr>\n",
       "    <tr>\n",
       "      <th>3</th>\n",
       "      <td>6762812605</td>\n",
       "      <td>42491</td>\n",
       "      <td>4</td>\n",
       "      <td>2.50</td>\n",
       "      <td>3310</td>\n",
       "      <td>42998</td>\n",
       "      <td>2.0</td>\n",
       "      <td>0</td>\n",
       "      <td>0</td>\n",
       "      <td>3</td>\n",
       "      <td>...</td>\n",
       "      <td>2001</td>\n",
       "      <td>0</td>\n",
       "      <td>122005</td>\n",
       "      <td>52.9532</td>\n",
       "      <td>-114.321</td>\n",
       "      <td>3350</td>\n",
       "      <td>42847</td>\n",
       "      <td>3</td>\n",
       "      <td>76</td>\n",
       "      <td>838000</td>\n",
       "    </tr>\n",
       "    <tr>\n",
       "      <th>4</th>\n",
       "      <td>6762812919</td>\n",
       "      <td>42491</td>\n",
       "      <td>3</td>\n",
       "      <td>2.00</td>\n",
       "      <td>2710</td>\n",
       "      <td>4500</td>\n",
       "      <td>1.5</td>\n",
       "      <td>0</td>\n",
       "      <td>0</td>\n",
       "      <td>4</td>\n",
       "      <td>...</td>\n",
       "      <td>1929</td>\n",
       "      <td>0</td>\n",
       "      <td>122006</td>\n",
       "      <td>52.9047</td>\n",
       "      <td>-114.485</td>\n",
       "      <td>2060</td>\n",
       "      <td>4500</td>\n",
       "      <td>1</td>\n",
       "      <td>51</td>\n",
       "      <td>805000</td>\n",
       "    </tr>\n",
       "  </tbody>\n",
       "</table>\n",
       "<p>5 rows × 23 columns</p>\n",
       "</div>"
      ],
      "text/plain": [
       "           id   Date  number of bedrooms  number of bathrooms  living area  \\\n",
       "0  6762810145  42491                   5                 2.50         3650   \n",
       "1  6762810635  42491                   4                 2.50         2920   \n",
       "2  6762810998  42491                   5                 2.75         2910   \n",
       "3  6762812605  42491                   4                 2.50         3310   \n",
       "4  6762812919  42491                   3                 2.00         2710   \n",
       "\n",
       "   lot area  number of floors  waterfront present  number of views  \\\n",
       "0      9050               2.0                   0                4   \n",
       "1      4000               1.5                   0                0   \n",
       "2      9480               1.5                   0                0   \n",
       "3     42998               2.0                   0                0   \n",
       "4      4500               1.5                   0                0   \n",
       "\n",
       "   condition of the house  ...  Built Year  Renovation Year  Postal Code  \\\n",
       "0                       5  ...        1921                0       122003   \n",
       "1                       5  ...        1909                0       122004   \n",
       "2                       3  ...        1939                0       122004   \n",
       "3                       3  ...        2001                0       122005   \n",
       "4                       4  ...        1929                0       122006   \n",
       "\n",
       "   Lattitude  Longitude  living_area_renov  lot_area_renov  \\\n",
       "0    52.8645   -114.557               2880            5400   \n",
       "1    52.8878   -114.470               2470            4000   \n",
       "2    52.8852   -114.468               2940            6600   \n",
       "3    52.9532   -114.321               3350           42847   \n",
       "4    52.9047   -114.485               2060            4500   \n",
       "\n",
       "   Number of schools nearby  Distance from the airport    Price  \n",
       "0                         2                         58  2380000  \n",
       "1                         2                         51  1400000  \n",
       "2                         1                         53  1200000  \n",
       "3                         3                         76   838000  \n",
       "4                         1                         51   805000  \n",
       "\n",
       "[5 rows x 23 columns]"
      ]
     },
     "execution_count": 155,
     "metadata": {},
     "output_type": "execute_result"
    }
   ],
   "source": [
    "df.head()"
   ]
  },
  {
   "cell_type": "code",
   "execution_count": 156,
   "id": "ae1b1c8d-7411-4f68-83e0-3f5a4febc467",
   "metadata": {},
   "outputs": [
    {
     "data": {
      "text/html": [
       "<div>\n",
       "<style scoped>\n",
       "    .dataframe tbody tr th:only-of-type {\n",
       "        vertical-align: middle;\n",
       "    }\n",
       "\n",
       "    .dataframe tbody tr th {\n",
       "        vertical-align: top;\n",
       "    }\n",
       "\n",
       "    .dataframe thead th {\n",
       "        text-align: right;\n",
       "    }\n",
       "</style>\n",
       "<table border=\"1\" class=\"dataframe\">\n",
       "  <thead>\n",
       "    <tr style=\"text-align: right;\">\n",
       "      <th></th>\n",
       "      <th>id</th>\n",
       "      <th>Date</th>\n",
       "      <th>number of bedrooms</th>\n",
       "      <th>number of bathrooms</th>\n",
       "      <th>living area</th>\n",
       "      <th>lot area</th>\n",
       "      <th>number of floors</th>\n",
       "      <th>waterfront present</th>\n",
       "      <th>number of views</th>\n",
       "      <th>condition of the house</th>\n",
       "      <th>...</th>\n",
       "      <th>Built Year</th>\n",
       "      <th>Renovation Year</th>\n",
       "      <th>Postal Code</th>\n",
       "      <th>Lattitude</th>\n",
       "      <th>Longitude</th>\n",
       "      <th>living_area_renov</th>\n",
       "      <th>lot_area_renov</th>\n",
       "      <th>Number of schools nearby</th>\n",
       "      <th>Distance from the airport</th>\n",
       "      <th>Price</th>\n",
       "    </tr>\n",
       "  </thead>\n",
       "  <tbody>\n",
       "    <tr>\n",
       "      <th>14615</th>\n",
       "      <td>6762830250</td>\n",
       "      <td>42734</td>\n",
       "      <td>2</td>\n",
       "      <td>1.5</td>\n",
       "      <td>1556</td>\n",
       "      <td>20000</td>\n",
       "      <td>1.0</td>\n",
       "      <td>0</td>\n",
       "      <td>0</td>\n",
       "      <td>4</td>\n",
       "      <td>...</td>\n",
       "      <td>1957</td>\n",
       "      <td>0</td>\n",
       "      <td>122066</td>\n",
       "      <td>52.6191</td>\n",
       "      <td>-114.472</td>\n",
       "      <td>2250</td>\n",
       "      <td>17286</td>\n",
       "      <td>3</td>\n",
       "      <td>76</td>\n",
       "      <td>221700</td>\n",
       "    </tr>\n",
       "    <tr>\n",
       "      <th>14616</th>\n",
       "      <td>6762830339</td>\n",
       "      <td>42734</td>\n",
       "      <td>3</td>\n",
       "      <td>2.0</td>\n",
       "      <td>1680</td>\n",
       "      <td>7000</td>\n",
       "      <td>1.5</td>\n",
       "      <td>0</td>\n",
       "      <td>0</td>\n",
       "      <td>4</td>\n",
       "      <td>...</td>\n",
       "      <td>1968</td>\n",
       "      <td>0</td>\n",
       "      <td>122072</td>\n",
       "      <td>52.5075</td>\n",
       "      <td>-114.393</td>\n",
       "      <td>1540</td>\n",
       "      <td>7480</td>\n",
       "      <td>3</td>\n",
       "      <td>59</td>\n",
       "      <td>219200</td>\n",
       "    </tr>\n",
       "    <tr>\n",
       "      <th>14617</th>\n",
       "      <td>6762830618</td>\n",
       "      <td>42734</td>\n",
       "      <td>2</td>\n",
       "      <td>1.0</td>\n",
       "      <td>1070</td>\n",
       "      <td>6120</td>\n",
       "      <td>1.0</td>\n",
       "      <td>0</td>\n",
       "      <td>0</td>\n",
       "      <td>3</td>\n",
       "      <td>...</td>\n",
       "      <td>1962</td>\n",
       "      <td>0</td>\n",
       "      <td>122056</td>\n",
       "      <td>52.7289</td>\n",
       "      <td>-114.507</td>\n",
       "      <td>1130</td>\n",
       "      <td>6120</td>\n",
       "      <td>2</td>\n",
       "      <td>64</td>\n",
       "      <td>209000</td>\n",
       "    </tr>\n",
       "    <tr>\n",
       "      <th>14618</th>\n",
       "      <td>6762830709</td>\n",
       "      <td>42734</td>\n",
       "      <td>4</td>\n",
       "      <td>1.0</td>\n",
       "      <td>1030</td>\n",
       "      <td>6621</td>\n",
       "      <td>1.0</td>\n",
       "      <td>0</td>\n",
       "      <td>0</td>\n",
       "      <td>4</td>\n",
       "      <td>...</td>\n",
       "      <td>1955</td>\n",
       "      <td>0</td>\n",
       "      <td>122042</td>\n",
       "      <td>52.7157</td>\n",
       "      <td>-114.411</td>\n",
       "      <td>1420</td>\n",
       "      <td>6631</td>\n",
       "      <td>3</td>\n",
       "      <td>54</td>\n",
       "      <td>205000</td>\n",
       "    </tr>\n",
       "    <tr>\n",
       "      <th>14619</th>\n",
       "      <td>6762831463</td>\n",
       "      <td>42734</td>\n",
       "      <td>3</td>\n",
       "      <td>1.0</td>\n",
       "      <td>900</td>\n",
       "      <td>4770</td>\n",
       "      <td>1.0</td>\n",
       "      <td>0</td>\n",
       "      <td>0</td>\n",
       "      <td>3</td>\n",
       "      <td>...</td>\n",
       "      <td>1969</td>\n",
       "      <td>2009</td>\n",
       "      <td>122018</td>\n",
       "      <td>52.5338</td>\n",
       "      <td>-114.552</td>\n",
       "      <td>900</td>\n",
       "      <td>3480</td>\n",
       "      <td>2</td>\n",
       "      <td>55</td>\n",
       "      <td>146000</td>\n",
       "    </tr>\n",
       "  </tbody>\n",
       "</table>\n",
       "<p>5 rows × 23 columns</p>\n",
       "</div>"
      ],
      "text/plain": [
       "               id   Date  number of bedrooms  number of bathrooms  \\\n",
       "14615  6762830250  42734                   2                  1.5   \n",
       "14616  6762830339  42734                   3                  2.0   \n",
       "14617  6762830618  42734                   2                  1.0   \n",
       "14618  6762830709  42734                   4                  1.0   \n",
       "14619  6762831463  42734                   3                  1.0   \n",
       "\n",
       "       living area  lot area  number of floors  waterfront present  \\\n",
       "14615         1556     20000               1.0                   0   \n",
       "14616         1680      7000               1.5                   0   \n",
       "14617         1070      6120               1.0                   0   \n",
       "14618         1030      6621               1.0                   0   \n",
       "14619          900      4770               1.0                   0   \n",
       "\n",
       "       number of views  condition of the house  ...  Built Year  \\\n",
       "14615                0                       4  ...        1957   \n",
       "14616                0                       4  ...        1968   \n",
       "14617                0                       3  ...        1962   \n",
       "14618                0                       4  ...        1955   \n",
       "14619                0                       3  ...        1969   \n",
       "\n",
       "       Renovation Year  Postal Code  Lattitude  Longitude  living_area_renov  \\\n",
       "14615                0       122066    52.6191   -114.472               2250   \n",
       "14616                0       122072    52.5075   -114.393               1540   \n",
       "14617                0       122056    52.7289   -114.507               1130   \n",
       "14618                0       122042    52.7157   -114.411               1420   \n",
       "14619             2009       122018    52.5338   -114.552                900   \n",
       "\n",
       "       lot_area_renov  Number of schools nearby  Distance from the airport  \\\n",
       "14615           17286                         3                         76   \n",
       "14616            7480                         3                         59   \n",
       "14617            6120                         2                         64   \n",
       "14618            6631                         3                         54   \n",
       "14619            3480                         2                         55   \n",
       "\n",
       "        Price  \n",
       "14615  221700  \n",
       "14616  219200  \n",
       "14617  209000  \n",
       "14618  205000  \n",
       "14619  146000  \n",
       "\n",
       "[5 rows x 23 columns]"
      ]
     },
     "execution_count": 156,
     "metadata": {},
     "output_type": "execute_result"
    }
   ],
   "source": [
    "df.tail()"
   ]
  },
  {
   "cell_type": "code",
   "execution_count": 157,
   "id": "4f2705d0-1dca-456b-bff0-5730da5a710f",
   "metadata": {},
   "outputs": [
    {
     "data": {
      "text/plain": [
       "(14620, 23)"
      ]
     },
     "execution_count": 157,
     "metadata": {},
     "output_type": "execute_result"
    }
   ],
   "source": [
    "df.shape"
   ]
  },
  {
   "cell_type": "code",
   "execution_count": 158,
   "id": "92364867-81cb-4ad7-816d-dd38749529bb",
   "metadata": {},
   "outputs": [],
   "source": [
    "df = df.drop(['Lattitude','Longitude','Postal Code','Renovation Year'],axis=1)"
   ]
  },
  {
   "cell_type": "code",
   "execution_count": 159,
   "id": "8f342133-938d-4f03-9413-eb78fc23a952",
   "metadata": {},
   "outputs": [
    {
     "name": "stdout",
     "output_type": "stream",
     "text": [
      "<class 'pandas.core.frame.DataFrame'>\n",
      "RangeIndex: 14620 entries, 0 to 14619\n",
      "Data columns (total 19 columns):\n",
      " #   Column                                 Non-Null Count  Dtype  \n",
      "---  ------                                 --------------  -----  \n",
      " 0   id                                     14620 non-null  int64  \n",
      " 1   Date                                   14620 non-null  int64  \n",
      " 2   number of bedrooms                     14620 non-null  int64  \n",
      " 3   number of bathrooms                    14620 non-null  float64\n",
      " 4   living area                            14620 non-null  int64  \n",
      " 5   lot area                               14620 non-null  int64  \n",
      " 6   number of floors                       14620 non-null  float64\n",
      " 7   waterfront present                     14620 non-null  int64  \n",
      " 8   number of views                        14620 non-null  int64  \n",
      " 9   condition of the house                 14620 non-null  int64  \n",
      " 10  grade of the house                     14620 non-null  int64  \n",
      " 11  Area of the house(excluding basement)  14620 non-null  int64  \n",
      " 12  Area of the basement                   14620 non-null  int64  \n",
      " 13  Built Year                             14620 non-null  int64  \n",
      " 14  living_area_renov                      14620 non-null  int64  \n",
      " 15  lot_area_renov                         14620 non-null  int64  \n",
      " 16  Number of schools nearby               14620 non-null  int64  \n",
      " 17  Distance from the airport              14620 non-null  int64  \n",
      " 18  Price                                  14620 non-null  int64  \n",
      "dtypes: float64(2), int64(17)\n",
      "memory usage: 2.1 MB\n"
     ]
    }
   ],
   "source": [
    "df.info()"
   ]
  },
  {
   "cell_type": "code",
   "execution_count": 160,
   "id": "3d696156-b593-4a9b-8568-2c841e01c49e",
   "metadata": {},
   "outputs": [
    {
     "data": {
      "text/html": [
       "<div>\n",
       "<style scoped>\n",
       "    .dataframe tbody tr th:only-of-type {\n",
       "        vertical-align: middle;\n",
       "    }\n",
       "\n",
       "    .dataframe tbody tr th {\n",
       "        vertical-align: top;\n",
       "    }\n",
       "\n",
       "    .dataframe thead th {\n",
       "        text-align: right;\n",
       "    }\n",
       "</style>\n",
       "<table border=\"1\" class=\"dataframe\">\n",
       "  <thead>\n",
       "    <tr style=\"text-align: right;\">\n",
       "      <th></th>\n",
       "      <th>id</th>\n",
       "      <th>Date</th>\n",
       "      <th>number of bedrooms</th>\n",
       "      <th>number of bathrooms</th>\n",
       "      <th>living area</th>\n",
       "      <th>lot area</th>\n",
       "      <th>number of floors</th>\n",
       "      <th>waterfront present</th>\n",
       "      <th>number of views</th>\n",
       "      <th>condition of the house</th>\n",
       "      <th>grade of the house</th>\n",
       "      <th>Area of the house(excluding basement)</th>\n",
       "      <th>Area of the basement</th>\n",
       "      <th>Built Year</th>\n",
       "      <th>living_area_renov</th>\n",
       "      <th>lot_area_renov</th>\n",
       "      <th>Number of schools nearby</th>\n",
       "      <th>Distance from the airport</th>\n",
       "      <th>Price</th>\n",
       "    </tr>\n",
       "  </thead>\n",
       "  <tbody>\n",
       "    <tr>\n",
       "      <th>13713</th>\n",
       "      <td>6762811776</td>\n",
       "      <td>42713</td>\n",
       "      <td>3</td>\n",
       "      <td>1.75</td>\n",
       "      <td>2150</td>\n",
       "      <td>4200</td>\n",
       "      <td>1.0</td>\n",
       "      <td>0</td>\n",
       "      <td>4</td>\n",
       "      <td>5</td>\n",
       "      <td>8</td>\n",
       "      <td>1140</td>\n",
       "      <td>1010</td>\n",
       "      <td>1960</td>\n",
       "      <td>2510</td>\n",
       "      <td>7500</td>\n",
       "      <td>3</td>\n",
       "      <td>68</td>\n",
       "      <td>950000</td>\n",
       "    </tr>\n",
       "    <tr>\n",
       "      <th>7692</th>\n",
       "      <td>6762823222</td>\n",
       "      <td>42606</td>\n",
       "      <td>3</td>\n",
       "      <td>1.00</td>\n",
       "      <td>1090</td>\n",
       "      <td>6125</td>\n",
       "      <td>1.0</td>\n",
       "      <td>0</td>\n",
       "      <td>0</td>\n",
       "      <td>4</td>\n",
       "      <td>6</td>\n",
       "      <td>790</td>\n",
       "      <td>300</td>\n",
       "      <td>1945</td>\n",
       "      <td>1050</td>\n",
       "      <td>6125</td>\n",
       "      <td>2</td>\n",
       "      <td>56</td>\n",
       "      <td>392000</td>\n",
       "    </tr>\n",
       "  </tbody>\n",
       "</table>\n",
       "</div>"
      ],
      "text/plain": [
       "               id   Date  number of bedrooms  number of bathrooms  \\\n",
       "13713  6762811776  42713                   3                 1.75   \n",
       "7692   6762823222  42606                   3                 1.00   \n",
       "\n",
       "       living area  lot area  number of floors  waterfront present  \\\n",
       "13713         2150      4200               1.0                   0   \n",
       "7692          1090      6125               1.0                   0   \n",
       "\n",
       "       number of views  condition of the house  grade of the house  \\\n",
       "13713                4                       5                   8   \n",
       "7692                 0                       4                   6   \n",
       "\n",
       "       Area of the house(excluding basement)  Area of the basement  \\\n",
       "13713                                   1140                  1010   \n",
       "7692                                     790                   300   \n",
       "\n",
       "       Built Year  living_area_renov  lot_area_renov  \\\n",
       "13713        1960               2510            7500   \n",
       "7692         1945               1050            6125   \n",
       "\n",
       "       Number of schools nearby  Distance from the airport   Price  \n",
       "13713                         3                         68  950000  \n",
       "7692                          2                         56  392000  "
      ]
     },
     "execution_count": 160,
     "metadata": {},
     "output_type": "execute_result"
    }
   ],
   "source": [
    "df.sample(n=2)"
   ]
  },
  {
   "cell_type": "code",
   "execution_count": 161,
   "id": "6de2babc-867a-42d3-8ddd-a8fa1cd7057f",
   "metadata": {},
   "outputs": [
    {
     "data": {
      "text/plain": [
       "2"
      ]
     },
     "execution_count": 161,
     "metadata": {},
     "output_type": "execute_result"
    }
   ],
   "source": [
    " df['waterfront present'].nunique()"
   ]
  },
  {
   "cell_type": "code",
   "execution_count": 162,
   "id": "ea8760ba-ee78-436e-aa28-2589253cdd5b",
   "metadata": {},
   "outputs": [],
   "source": [
    "x= df.drop(['id','Price'],axis=1)"
   ]
  },
  {
   "cell_type": "code",
   "execution_count": 163,
   "id": "af076df1-9db2-4f51-8589-dc37b45b493b",
   "metadata": {},
   "outputs": [
    {
     "data": {
      "text/html": [
       "<div>\n",
       "<style scoped>\n",
       "    .dataframe tbody tr th:only-of-type {\n",
       "        vertical-align: middle;\n",
       "    }\n",
       "\n",
       "    .dataframe tbody tr th {\n",
       "        vertical-align: top;\n",
       "    }\n",
       "\n",
       "    .dataframe thead th {\n",
       "        text-align: right;\n",
       "    }\n",
       "</style>\n",
       "<table border=\"1\" class=\"dataframe\">\n",
       "  <thead>\n",
       "    <tr style=\"text-align: right;\">\n",
       "      <th></th>\n",
       "      <th>Date</th>\n",
       "      <th>number of bedrooms</th>\n",
       "      <th>number of bathrooms</th>\n",
       "      <th>living area</th>\n",
       "      <th>lot area</th>\n",
       "      <th>number of floors</th>\n",
       "      <th>waterfront present</th>\n",
       "      <th>number of views</th>\n",
       "      <th>condition of the house</th>\n",
       "      <th>grade of the house</th>\n",
       "      <th>Area of the house(excluding basement)</th>\n",
       "      <th>Area of the basement</th>\n",
       "      <th>Built Year</th>\n",
       "      <th>living_area_renov</th>\n",
       "      <th>lot_area_renov</th>\n",
       "      <th>Number of schools nearby</th>\n",
       "      <th>Distance from the airport</th>\n",
       "    </tr>\n",
       "  </thead>\n",
       "  <tbody>\n",
       "    <tr>\n",
       "      <th>0</th>\n",
       "      <td>42491</td>\n",
       "      <td>5</td>\n",
       "      <td>2.50</td>\n",
       "      <td>3650</td>\n",
       "      <td>9050</td>\n",
       "      <td>2.0</td>\n",
       "      <td>0</td>\n",
       "      <td>4</td>\n",
       "      <td>5</td>\n",
       "      <td>10</td>\n",
       "      <td>3370</td>\n",
       "      <td>280</td>\n",
       "      <td>1921</td>\n",
       "      <td>2880</td>\n",
       "      <td>5400</td>\n",
       "      <td>2</td>\n",
       "      <td>58</td>\n",
       "    </tr>\n",
       "    <tr>\n",
       "      <th>1</th>\n",
       "      <td>42491</td>\n",
       "      <td>4</td>\n",
       "      <td>2.50</td>\n",
       "      <td>2920</td>\n",
       "      <td>4000</td>\n",
       "      <td>1.5</td>\n",
       "      <td>0</td>\n",
       "      <td>0</td>\n",
       "      <td>5</td>\n",
       "      <td>8</td>\n",
       "      <td>1910</td>\n",
       "      <td>1010</td>\n",
       "      <td>1909</td>\n",
       "      <td>2470</td>\n",
       "      <td>4000</td>\n",
       "      <td>2</td>\n",
       "      <td>51</td>\n",
       "    </tr>\n",
       "    <tr>\n",
       "      <th>2</th>\n",
       "      <td>42491</td>\n",
       "      <td>5</td>\n",
       "      <td>2.75</td>\n",
       "      <td>2910</td>\n",
       "      <td>9480</td>\n",
       "      <td>1.5</td>\n",
       "      <td>0</td>\n",
       "      <td>0</td>\n",
       "      <td>3</td>\n",
       "      <td>8</td>\n",
       "      <td>2910</td>\n",
       "      <td>0</td>\n",
       "      <td>1939</td>\n",
       "      <td>2940</td>\n",
       "      <td>6600</td>\n",
       "      <td>1</td>\n",
       "      <td>53</td>\n",
       "    </tr>\n",
       "    <tr>\n",
       "      <th>3</th>\n",
       "      <td>42491</td>\n",
       "      <td>4</td>\n",
       "      <td>2.50</td>\n",
       "      <td>3310</td>\n",
       "      <td>42998</td>\n",
       "      <td>2.0</td>\n",
       "      <td>0</td>\n",
       "      <td>0</td>\n",
       "      <td>3</td>\n",
       "      <td>9</td>\n",
       "      <td>3310</td>\n",
       "      <td>0</td>\n",
       "      <td>2001</td>\n",
       "      <td>3350</td>\n",
       "      <td>42847</td>\n",
       "      <td>3</td>\n",
       "      <td>76</td>\n",
       "    </tr>\n",
       "    <tr>\n",
       "      <th>4</th>\n",
       "      <td>42491</td>\n",
       "      <td>3</td>\n",
       "      <td>2.00</td>\n",
       "      <td>2710</td>\n",
       "      <td>4500</td>\n",
       "      <td>1.5</td>\n",
       "      <td>0</td>\n",
       "      <td>0</td>\n",
       "      <td>4</td>\n",
       "      <td>8</td>\n",
       "      <td>1880</td>\n",
       "      <td>830</td>\n",
       "      <td>1929</td>\n",
       "      <td>2060</td>\n",
       "      <td>4500</td>\n",
       "      <td>1</td>\n",
       "      <td>51</td>\n",
       "    </tr>\n",
       "  </tbody>\n",
       "</table>\n",
       "</div>"
      ],
      "text/plain": [
       "    Date  number of bedrooms  number of bathrooms  living area  lot area  \\\n",
       "0  42491                   5                 2.50         3650      9050   \n",
       "1  42491                   4                 2.50         2920      4000   \n",
       "2  42491                   5                 2.75         2910      9480   \n",
       "3  42491                   4                 2.50         3310     42998   \n",
       "4  42491                   3                 2.00         2710      4500   \n",
       "\n",
       "   number of floors  waterfront present  number of views  \\\n",
       "0               2.0                   0                4   \n",
       "1               1.5                   0                0   \n",
       "2               1.5                   0                0   \n",
       "3               2.0                   0                0   \n",
       "4               1.5                   0                0   \n",
       "\n",
       "   condition of the house  grade of the house  \\\n",
       "0                       5                  10   \n",
       "1                       5                   8   \n",
       "2                       3                   8   \n",
       "3                       3                   9   \n",
       "4                       4                   8   \n",
       "\n",
       "   Area of the house(excluding basement)  Area of the basement  Built Year  \\\n",
       "0                                   3370                   280        1921   \n",
       "1                                   1910                  1010        1909   \n",
       "2                                   2910                     0        1939   \n",
       "3                                   3310                     0        2001   \n",
       "4                                   1880                   830        1929   \n",
       "\n",
       "   living_area_renov  lot_area_renov  Number of schools nearby  \\\n",
       "0               2880            5400                         2   \n",
       "1               2470            4000                         2   \n",
       "2               2940            6600                         1   \n",
       "3               3350           42847                         3   \n",
       "4               2060            4500                         1   \n",
       "\n",
       "   Distance from the airport  \n",
       "0                         58  \n",
       "1                         51  \n",
       "2                         53  \n",
       "3                         76  \n",
       "4                         51  "
      ]
     },
     "execution_count": 163,
     "metadata": {},
     "output_type": "execute_result"
    }
   ],
   "source": [
    "x.head()"
   ]
  },
  {
   "cell_type": "code",
   "execution_count": 164,
   "id": "d5f06c0d-979d-4f59-a313-935f1703a4c0",
   "metadata": {},
   "outputs": [],
   "source": [
    "y = df['Price']"
   ]
  },
  {
   "cell_type": "code",
   "execution_count": 165,
   "id": "b8ef881c-a043-4508-bef9-da48d908489f",
   "metadata": {},
   "outputs": [
    {
     "data": {
      "text/plain": [
       "0    2380000\n",
       "1    1400000\n",
       "2    1200000\n",
       "3     838000\n",
       "4     805000\n",
       "Name: Price, dtype: int64"
      ]
     },
     "execution_count": 165,
     "metadata": {},
     "output_type": "execute_result"
    }
   ],
   "source": [
    "y.head()"
   ]
  },
  {
   "cell_type": "code",
   "execution_count": 166,
   "id": "bae274aa-833c-4d56-97a6-a141f2371e7f",
   "metadata": {},
   "outputs": [],
   "source": [
    "from sklearn.model_selection import train_test_split"
   ]
  },
  {
   "cell_type": "code",
   "execution_count": 167,
   "id": "aa24fda6-332d-47b4-87f5-b0e6bab43843",
   "metadata": {},
   "outputs": [],
   "source": [
    "x_train, x_test, y_train, y_test = train_test_split(x,y,test_size=0.3)"
   ]
  },
  {
   "cell_type": "code",
   "execution_count": 168,
   "id": "b952d69c-e864-4388-a002-da42e46c9972",
   "metadata": {},
   "outputs": [
    {
     "data": {
      "text/plain": [
       "(10234, 17)"
      ]
     },
     "execution_count": 168,
     "metadata": {},
     "output_type": "execute_result"
    }
   ],
   "source": [
    "x_train.shape"
   ]
  },
  {
   "cell_type": "code",
   "execution_count": 169,
   "id": "00e079a5",
   "metadata": {},
   "outputs": [
    {
     "data": {
      "text/plain": [
       "(4386, 17)"
      ]
     },
     "execution_count": 169,
     "metadata": {},
     "output_type": "execute_result"
    }
   ],
   "source": [
    "x_test.shape"
   ]
  },
  {
   "cell_type": "code",
   "execution_count": 170,
   "id": "f89e9219",
   "metadata": {},
   "outputs": [
    {
     "data": {
      "text/plain": [
       "(10234,)"
      ]
     },
     "execution_count": 170,
     "metadata": {},
     "output_type": "execute_result"
    }
   ],
   "source": [
    "y_train.shape"
   ]
  },
  {
   "cell_type": "code",
   "execution_count": 171,
   "id": "9030ffb9",
   "metadata": {},
   "outputs": [
    {
     "data": {
      "text/plain": [
       "(4386,)"
      ]
     },
     "execution_count": 171,
     "metadata": {},
     "output_type": "execute_result"
    }
   ],
   "source": [
    "y_test.shape"
   ]
  },
  {
   "cell_type": "code",
   "execution_count": 172,
   "id": "ff5c9ad9",
   "metadata": {},
   "outputs": [],
   "source": [
    "from sklearn.tree import DecisionTreeClassifier"
   ]
  },
  {
   "cell_type": "code",
   "execution_count": 173,
   "id": "92faf91e",
   "metadata": {},
   "outputs": [],
   "source": [
    "model = DecisionTreeClassifier()"
   ]
  },
  {
   "cell_type": "code",
   "execution_count": 174,
   "id": "2e233662",
   "metadata": {},
   "outputs": [
    {
     "data": {
      "text/plain": [
       "DecisionTreeClassifier()"
      ]
     },
     "execution_count": 174,
     "metadata": {},
     "output_type": "execute_result"
    }
   ],
   "source": [
    "model.fit(x_train,y_train)"
   ]
  },
  {
   "cell_type": "code",
   "execution_count": 175,
   "id": "ad1bfc88",
   "metadata": {},
   "outputs": [
    {
     "name": "stdout",
     "output_type": "stream",
     "text": [
      "<class 'pandas.core.frame.DataFrame'>\n",
      "RangeIndex: 14620 entries, 0 to 14619\n",
      "Data columns (total 17 columns):\n",
      " #   Column                                 Non-Null Count  Dtype  \n",
      "---  ------                                 --------------  -----  \n",
      " 0   Date                                   14620 non-null  int64  \n",
      " 1   number of bedrooms                     14620 non-null  int64  \n",
      " 2   number of bathrooms                    14620 non-null  float64\n",
      " 3   living area                            14620 non-null  int64  \n",
      " 4   lot area                               14620 non-null  int64  \n",
      " 5   number of floors                       14620 non-null  float64\n",
      " 6   waterfront present                     14620 non-null  int64  \n",
      " 7   number of views                        14620 non-null  int64  \n",
      " 8   condition of the house                 14620 non-null  int64  \n",
      " 9   grade of the house                     14620 non-null  int64  \n",
      " 10  Area of the house(excluding basement)  14620 non-null  int64  \n",
      " 11  Area of the basement                   14620 non-null  int64  \n",
      " 12  Built Year                             14620 non-null  int64  \n",
      " 13  living_area_renov                      14620 non-null  int64  \n",
      " 14  lot_area_renov                         14620 non-null  int64  \n",
      " 15  Number of schools nearby               14620 non-null  int64  \n",
      " 16  Distance from the airport              14620 non-null  int64  \n",
      "dtypes: float64(2), int64(15)\n",
      "memory usage: 1.9 MB\n"
     ]
    }
   ],
   "source": [
    "x.info()"
   ]
  },
  {
   "cell_type": "code",
   "execution_count": 144,
   "id": "f7e67fa0",
   "metadata": {},
   "outputs": [
    {
     "name": "stdout",
     "output_type": "stream",
     "text": [
      "[379950]\n"
     ]
    },
    {
     "name": "stderr",
     "output_type": "stream",
     "text": [
      "C:\\Users\\vinay\\anaconda3\\lib\\site-packages\\sklearn\\base.py:450: UserWarning: X does not have valid feature names, but DecisionTreeClassifier was fitted with feature names\n",
      "  warnings.warn(\n"
     ]
    }
   ],
   "source": [
    "print(model.predict([[43465,5,1,1000,5000,2,1,1,4,7,3000,2000,2010,2023,122019,500,1500,5,10]]))"
   ]
  },
  {
   "cell_type": "code",
   "execution_count": 145,
   "id": "0c64396a",
   "metadata": {},
   "outputs": [
    {
     "name": "stdout",
     "output_type": "stream",
     "text": [
      "0.2840173860937022\n"
     ]
    }
   ],
   "source": [
    "from sklearn.metrics import mean_absolute_percentage_error\n",
    "y_predict = model.predict(x_test)\n",
    "print(mean_absolute_percentage_error(y_test,y_predict))"
   ]
  },
  {
   "cell_type": "code",
   "execution_count": 146,
   "id": "a7cc3359",
   "metadata": {},
   "outputs": [],
   "source": [
    "from sklearn.ensemble import RandomForestRegressor\n"
   ]
  },
  {
   "cell_type": "code",
   "execution_count": 147,
   "id": "e1901e16",
   "metadata": {},
   "outputs": [],
   "source": [
    "model_lr = RandomForestRegressor()\n"
   ]
  },
  {
   "cell_type": "code",
   "execution_count": 148,
   "id": "b7ed0ea4",
   "metadata": {},
   "outputs": [
    {
     "data": {
      "text/plain": [
       "RandomForestRegressor()"
      ]
     },
     "execution_count": 148,
     "metadata": {},
     "output_type": "execute_result"
    }
   ],
   "source": [
    "model_lr.fit(x_train,y_train)"
   ]
  },
  {
   "cell_type": "code",
   "execution_count": 149,
   "id": "4df8b254",
   "metadata": {},
   "outputs": [
    {
     "name": "stdout",
     "output_type": "stream",
     "text": [
      "[366148.65]\n"
     ]
    },
    {
     "name": "stderr",
     "output_type": "stream",
     "text": [
      "C:\\Users\\vinay\\anaconda3\\lib\\site-packages\\sklearn\\base.py:450: UserWarning: X does not have valid feature names, but RandomForestRegressor was fitted with feature names\n",
      "  warnings.warn(\n"
     ]
    }
   ],
   "source": [
    "print(model_lr.predict([[43465,5,1,1000,5000,2,1,1,4,7,3000,2000,2010,2023,122019,500,1500,5,10]]))"
   ]
  },
  {
   "cell_type": "code",
   "execution_count": 151,
   "id": "994d1c82",
   "metadata": {},
   "outputs": [
    {
     "name": "stdout",
     "output_type": "stream",
     "text": [
      "0.1717232367323774\n"
     ]
    }
   ],
   "source": [
    "from sklearn.metrics import mean_absolute_percentage_error\n",
    "y_predict = model_lr.predict(x_test)\n",
    "print(mean_absolute_percentage_error(y_test,y_predict))"
   ]
  },
  {
   "cell_type": "code",
   "execution_count": null,
   "id": "cb4cb477",
   "metadata": {},
   "outputs": [],
   "source": []
  }
 ],
 "metadata": {
  "kernelspec": {
   "display_name": "Python 3 (ipykernel)",
   "language": "python",
   "name": "python3"
  },
  "language_info": {
   "codemirror_mode": {
    "name": "ipython",
    "version": 3
   },
   "file_extension": ".py",
   "mimetype": "text/x-python",
   "name": "python",
   "nbconvert_exporter": "python",
   "pygments_lexer": "ipython3",
   "version": "3.9.12"
  }
 },
 "nbformat": 4,
 "nbformat_minor": 5
}
